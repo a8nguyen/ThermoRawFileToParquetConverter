{
 "cells": [
  {
   "cell_type": "code",
   "execution_count": 37,
   "id": "90eea0fc-fd8f-4eab-9a4c-88713cce7a72",
   "metadata": {},
   "outputs": [
    {
     "name": "stdout",
     "output_type": "stream",
     "text": [
      "Raw Files Directory: ../raw\n",
      "Thermo dlls Directory:  ../libs\n",
      "Scan Filter Regex List:  ['ITMS', 'kazoo']\n",
      "Number of Workers:  12\n",
      "Processing raw file:  MA4383_FFPE_HPVneg_16_071522\n",
      "Reading Scans...\n",
      "Processing raw file:  MA4407_06_Mut_082722\n",
      "Reading Scans...\n",
      "Processing raw file:  MA4402_01_Mut_082722\n",
      "Reading Scans...\n",
      "Processing raw file:  MA4358_FFPE_HPVpos_01_071522\n",
      "Reading Scans...\n",
      "Processing raw file:  MA4365_FFPE_HPVpos_08_071522\n",
      "Reading Scans...\n",
      "100%|███████████████████████████████████| 66236/66236 [00:12<00:00, 5456.31it/s]\n",
      "Writing scans to parquet for  MA4402_01_Mut_082722  ...\n",
      "100%|███████████████████████████████████| 66437/66437 [00:12<00:00, 5209.99it/s]\n",
      "Writing scans to parquet for  MA4407_06_Mut_082722  ...\n",
      "100%|███████████████████████████████████| 66354/66354 [00:12<00:00, 5196.05it/s]\n",
      "Writing scans to parquet for  MA4358_FFPE_HPVpos_01_071522  ...\n",
      "100%|███████████████████████████████████| 65474/65474 [00:12<00:00, 5090.67it/s]\n",
      "Writing scans to parquet for  MA4383_FFPE_HPVneg_16_071522  ...\n",
      "100%|███████████████████████████████████| 66133/66133 [00:13<00:00, 5071.10it/s]\n",
      "Writing scans to parquet for  MA4365_FFPE_HPVpos_08_071522  ...\n",
      "Writing raw file  MA4402_01_Mut_082722  took  29.974024057388306  seconds\n",
      "Writing raw file  MA4407_06_Mut_082722  took  33.74738574028015  seconds\n",
      "Writing raw file  MA4358_FFPE_HPVpos_01_071522  took  46.30406403541565  seconds\n",
      "Writing raw file  MA4383_FFPE_HPVneg_16_071522  took  48.85515904426575  seconds\n",
      "Writing raw file  MA4365_FFPE_HPVpos_08_071522  took  50.19968605041504  seconds\n",
      "Converted 5 raw files in 1.0711317857106526 minutes\n",
      "Memory in use (MB): \n",
      "67.4453125\n"
     ]
    }
   ],
   "source": [
    "!python3 raw_to_parquet.py ../raw -d ../libs -n 12 -sf ITMS kazoo -o ./parquet_out"
   ]
  },
  {
   "cell_type": "code",
   "execution_count": 29,
   "id": "7f765704-bfbb-4d22-99ab-df954bcc5983",
   "metadata": {},
   "outputs": [
    {
     "name": "stdout",
     "output_type": "stream",
     "text": [
      "Raw Files Directory: ../raw\n",
      "Thermo dlls Directory:  ../libs\n",
      "Scan Filter Regex List:  ['ITMS']\n",
      "Number of Workers:  3\n",
      "Processing raw file:  MA4383_FFPE_HPVneg_16_071522\n",
      "Reading Scans...\n",
      "Processing raw file:  MA4407_06_Mut_082722\n",
      "Reading Scans...\n",
      "Processing raw file:  MA4402_01_Mut_082722\n",
      "Reading Scans...\n",
      "100%|███████████████████████████████████| 66236/66236 [00:11<00:00, 5534.95it/s]\n",
      "./MA4402_01_Mut_082722.parquet\n",
      "Writing scans to parquet for  MA4402_01_Mut_082722  ...\n",
      "100%|███████████████████████████████████| 66437/66437 [00:12<00:00, 5420.87it/s]\n",
      "./MA4407_06_Mut_082722.parquet\n",
      "Writing scans to parquet for  MA4407_06_Mut_082722  ...\n",
      "100%|███████████████████████████████████| 65474/65474 [00:12<00:00, 5219.50it/s]\n",
      "./MA4383_FFPE_HPVneg_16_071522.parquet\n",
      "Writing scans to parquet for  MA4383_FFPE_HPVneg_16_071522  ...\n",
      "Writing raw file  MA4402_01_Mut_082722  took  31.574242115020752  seconds\n",
      "Processing raw file:  MA4358_FFPE_HPVpos_01_071522\n",
      "Reading Scans...\n",
      " 39%|█████████████▋                     | 26013/66354 [00:04<00:13, 3018.21it/s]Writing raw file  MA4407_06_Mut_082722  took  36.38299489021301  seconds\n",
      " 40%|█████████████▉                     | 26448/66354 [00:05<00:11, 3378.26it/s]Processing raw file:  MA4365_FFPE_HPVpos_08_071522\n",
      "Reading Scans...\n",
      "100%|███████████████████████████████████| 66354/66354 [00:12<00:00, 5230.77it/s]\n",
      "./MA4358_FFPE_HPVpos_01_071522.parquet\n",
      "Writing scans to parquet for  MA4358_FFPE_HPVpos_01_071522  ...\n",
      " 74%|██████████████████████████         | 49130/66133 [00:11<00:01, 8943.12it/s]Writing raw file  MA4383_FFPE_HPVneg_16_071522  took  47.462048053741455  seconds\n",
      "100%|███████████████████████████████████| 66133/66133 [00:12<00:00, 5237.66it/s]\n",
      "./MA4365_FFPE_HPVpos_08_071522.parquet\n",
      "Writing scans to parquet for  MA4365_FFPE_HPVpos_08_071522  ...\n",
      "Writing raw file  MA4358_FFPE_HPVpos_01_071522  took  47.63205909729004  seconds\n",
      "Writing raw file  MA4365_FFPE_HPVpos_08_071522  took  50.10560894012451  seconds\n",
      "Memory in use (MB): \n",
      "68.4765625\n",
      "Converted 5 raw files in 1.8713491161664326 minutes\n"
     ]
    }
   ],
   "source": [
    "!python3 raw_to_parquet.py ../raw -d ../libs -n 3"
   ]
  },
  {
   "cell_type": "code",
   "execution_count": null,
   "id": "037c073f-215f-4b34-8408-5559cfcd0562",
   "metadata": {},
   "outputs": [],
   "source": []
  }
 ],
 "metadata": {
  "kernelspec": {
   "display_name": "Python 3 (ipykernel)",
   "language": "python",
   "name": "python3"
  },
  "language_info": {
   "codemirror_mode": {
    "name": "ipython",
    "version": 3
   },
   "file_extension": ".py",
   "mimetype": "text/x-python",
   "name": "python",
   "nbconvert_exporter": "python",
   "pygments_lexer": "ipython3",
   "version": "3.10.9"
  }
 },
 "nbformat": 4,
 "nbformat_minor": 5
}
