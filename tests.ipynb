{
 "cells": [
  {
   "cell_type": "code",
   "execution_count": 41,
   "id": "2d59e00d-2ec9-4d8c-abd4-9caed7897675",
   "metadata": {},
   "outputs": [],
   "source": [
    "import json\n",
    "json_args_f = open('args.json')\n",
    "json_args = json.load(json_args_f)"
   ]
  },
  {
   "cell_type": "code",
   "execution_count": 44,
   "id": "f1c95e8c-cefa-41f8-ac3a-cd275d89b4d0",
   "metadata": {},
   "outputs": [
    {
     "data": {
      "text/plain": [
       "{'raw_dir': '../raw',\n",
       " 'thermo_dlls': '../libs',\n",
       " 'scan_filter_regex_list': ['ITMS', 'kazoo'],\n",
       " 'num_workers': 12,\n",
       " 'parquet_out': './parquet_out'}"
      ]
     },
     "execution_count": 44,
     "metadata": {},
     "output_type": "execute_result"
    }
   ],
   "source": [
    "json_args"
   ]
  },
  {
   "cell_type": "code",
   "execution_count": 46,
   "id": "2ebbc594-27c7-4e77-b881-47fa0bf9d219",
   "metadata": {},
   "outputs": [
    {
     "name": "stdout",
     "output_type": "stream",
     "text": [
      "Raw Files Directory: ../raw\n",
      "Thermo dlls Directory:  ../libs\n",
      "Scan Filter Regex List:  ['ITMS', 'kazoo']\n",
      "Number of Workers:  12\n",
      "Parquet File Output Folder:  ./parquet_out\n",
      "Processing raw file:  MA4383_FFPE_HPVneg_16_071522\n",
      "Reading Scans...\n",
      "Processing raw file:  MA4407_06_Mut_082722\n",
      "Reading Scans...\n",
      "Processing raw file:  MA4402_01_Mut_082722\n",
      "Reading Scans...\n",
      "Processing raw file:  MA4358_FFPE_HPVpos_01_071522\n",
      "Reading Scans...\n",
      "Processing raw file:  MA4365_FFPE_HPVpos_08_071522\n",
      "Reading Scans...\n",
      "100%|███████████████████████████████████| 66236/66236 [00:12<00:00, 5342.24it/s]\n",
      "Writing scans to parquet for  MA4402_01_Mut_082722  ...\n",
      "100%|███████████████████████████████████| 66437/66437 [00:13<00:00, 5014.48it/s]\n",
      "Writing scans to parquet for  MA4407_06_Mut_082722  ...\n",
      "100%|███████████████████████████████████| 66354/66354 [00:13<00:00, 5004.23it/s]\n",
      "Writing scans to parquet for  MA4358_FFPE_HPVpos_01_071522  ...\n",
      "100%|███████████████████████████████████| 65474/65474 [00:13<00:00, 4929.08it/s]\n",
      "Writing scans to parquet for  MA4383_FFPE_HPVneg_16_071522  ...\n",
      "100%|███████████████████████████████████| 66133/66133 [00:13<00:00, 4932.16it/s]\n",
      "Writing scans to parquet for  MA4365_FFPE_HPVpos_08_071522  ...\n",
      "Writing raw file  MA4402_01_Mut_082722  took  32.125596046447754  seconds\n",
      "Writing raw file  MA4407_06_Mut_082722  took  37.03812122344971  seconds\n",
      "Writing raw file  MA4358_FFPE_HPVpos_01_071522  took  45.692657232284546  seconds\n",
      "Writing raw file  MA4383_FFPE_HPVneg_16_071522  took  48.860604763031006  seconds\n",
      "Writing raw file  MA4365_FFPE_HPVpos_08_071522  took  48.8736686706543  seconds\n",
      "Converted 5 raw files in 1.0568995197614035 minutes\n",
      "Memory in use (MB): \n",
      "70.72265625\n"
     ]
    }
   ],
   "source": [
    "!python3 raw_to_parquet.py args.json"
   ]
  },
  {
   "cell_type": "code",
   "execution_count": 38,
   "id": "90eea0fc-fd8f-4eab-9a4c-88713cce7a72",
   "metadata": {},
   "outputs": [
    {
     "name": "stdout",
     "output_type": "stream",
     "text": [
      "Raw Files Directory: ../raw\n",
      "Thermo dlls Directory:  ../libs\n",
      "Scan Filter Regex List:  ['ITMS', 'kazoo']\n",
      "Number of Workers:  12\n",
      "Parquet File Output Folder:  12\n",
      "Processing raw file:  MA4383_FFPE_HPVneg_16_071522\n",
      "Reading Scans...\n",
      "Processing raw file:  MA4407_06_Mut_082722\n",
      "Reading Scans...\n",
      "Processing raw file:  MA4402_01_Mut_082722\n",
      "Reading Scans...\n",
      "Processing raw file:  MA4358_FFPE_HPVpos_01_071522\n",
      "Reading Scans...\n",
      "Processing raw file:  MA4365_FFPE_HPVpos_08_071522\n",
      "Reading Scans...\n",
      "100%|███████████████████████████████████| 66236/66236 [00:12<00:00, 5220.07it/s]\n",
      "Writing scans to parquet for  MA4402_01_Mut_082722  ...\n",
      "100%|███████████████████████████████████| 65474/65474 [00:13<00:00, 4982.21it/s]\n",
      "Writing scans to parquet for  MA4383_FFPE_HPVneg_16_071522  ...\n",
      "100%|███████████████████████████████████| 66437/66437 [00:13<00:00, 5041.14it/s]\n",
      "Writing scans to parquet for  MA4407_06_Mut_082722  ...\n",
      "100%|███████████████████████████████████| 66133/66133 [00:13<00:00, 4947.07it/s]\n",
      "Writing scans to parquet for  MA4365_FFPE_HPVpos_08_071522  ...\n",
      "100%|███████████████████████████████████| 66354/66354 [00:13<00:00, 4922.17it/s]\n",
      "Writing scans to parquet for  MA4358_FFPE_HPVpos_01_071522  ...\n",
      "Writing raw file  MA4402_01_Mut_082722  took  32.016746044158936  seconds\n",
      "Writing raw file  MA4407_06_Mut_082722  took  37.15317392349243  seconds\n",
      "Writing raw file  MA4383_FFPE_HPVneg_16_071522  took  47.03338694572449  seconds\n",
      "Writing raw file  MA4365_FFPE_HPVpos_08_071522  took  48.03439903259277  seconds\n",
      "Writing raw file  MA4358_FFPE_HPVpos_01_071522  took  50.25702905654907  seconds\n",
      "Converted 5 raw files in 1.0798007448514302 minutes\n",
      "Memory in use (MB): \n",
      "68.32421875\n"
     ]
    }
   ],
   "source": [
    "!python3 raw_to_parquet.py ../raw -d ../libs -n 12 -sf ITMS kazoo -o ./parquet_out"
   ]
  },
  {
   "cell_type": "code",
   "execution_count": 29,
   "id": "7f765704-bfbb-4d22-99ab-df954bcc5983",
   "metadata": {},
   "outputs": [
    {
     "name": "stdout",
     "output_type": "stream",
     "text": [
      "Raw Files Directory: ../raw\n",
      "Thermo dlls Directory:  ../libs\n",
      "Scan Filter Regex List:  ['ITMS']\n",
      "Number of Workers:  3\n",
      "Processing raw file:  MA4383_FFPE_HPVneg_16_071522\n",
      "Reading Scans...\n",
      "Processing raw file:  MA4407_06_Mut_082722\n",
      "Reading Scans...\n",
      "Processing raw file:  MA4402_01_Mut_082722\n",
      "Reading Scans...\n",
      "100%|███████████████████████████████████| 66236/66236 [00:11<00:00, 5534.95it/s]\n",
      "./MA4402_01_Mut_082722.parquet\n",
      "Writing scans to parquet for  MA4402_01_Mut_082722  ...\n",
      "100%|███████████████████████████████████| 66437/66437 [00:12<00:00, 5420.87it/s]\n",
      "./MA4407_06_Mut_082722.parquet\n",
      "Writing scans to parquet for  MA4407_06_Mut_082722  ...\n",
      "100%|███████████████████████████████████| 65474/65474 [00:12<00:00, 5219.50it/s]\n",
      "./MA4383_FFPE_HPVneg_16_071522.parquet\n",
      "Writing scans to parquet for  MA4383_FFPE_HPVneg_16_071522  ...\n",
      "Writing raw file  MA4402_01_Mut_082722  took  31.574242115020752  seconds\n",
      "Processing raw file:  MA4358_FFPE_HPVpos_01_071522\n",
      "Reading Scans...\n",
      " 39%|█████████████▋                     | 26013/66354 [00:04<00:13, 3018.21it/s]Writing raw file  MA4407_06_Mut_082722  took  36.38299489021301  seconds\n",
      " 40%|█████████████▉                     | 26448/66354 [00:05<00:11, 3378.26it/s]Processing raw file:  MA4365_FFPE_HPVpos_08_071522\n",
      "Reading Scans...\n",
      "100%|███████████████████████████████████| 66354/66354 [00:12<00:00, 5230.77it/s]\n",
      "./MA4358_FFPE_HPVpos_01_071522.parquet\n",
      "Writing scans to parquet for  MA4358_FFPE_HPVpos_01_071522  ...\n",
      " 74%|██████████████████████████         | 49130/66133 [00:11<00:01, 8943.12it/s]Writing raw file  MA4383_FFPE_HPVneg_16_071522  took  47.462048053741455  seconds\n",
      "100%|███████████████████████████████████| 66133/66133 [00:12<00:00, 5237.66it/s]\n",
      "./MA4365_FFPE_HPVpos_08_071522.parquet\n",
      "Writing scans to parquet for  MA4365_FFPE_HPVpos_08_071522  ...\n",
      "Writing raw file  MA4358_FFPE_HPVpos_01_071522  took  47.63205909729004  seconds\n",
      "Writing raw file  MA4365_FFPE_HPVpos_08_071522  took  50.10560894012451  seconds\n",
      "Memory in use (MB): \n",
      "68.4765625\n",
      "Converted 5 raw files in 1.8713491161664326 minutes\n"
     ]
    }
   ],
   "source": [
    "!python3 raw_to_parquet.py ../raw -d ../libs -n 3"
   ]
  },
  {
   "cell_type": "code",
   "execution_count": null,
   "id": "037c073f-215f-4b34-8408-5559cfcd0562",
   "metadata": {},
   "outputs": [],
   "source": []
  }
 ],
 "metadata": {
  "kernelspec": {
   "display_name": "Python 3 (ipykernel)",
   "language": "python",
   "name": "python3"
  },
  "language_info": {
   "codemirror_mode": {
    "name": "ipython",
    "version": 3
   },
   "file_extension": ".py",
   "mimetype": "text/x-python",
   "name": "python",
   "nbconvert_exporter": "python",
   "pygments_lexer": "ipython3",
   "version": "3.10.9"
  }
 },
 "nbformat": 4,
 "nbformat_minor": 5
}
