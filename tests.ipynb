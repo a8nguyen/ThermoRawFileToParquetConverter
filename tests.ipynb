{
 "cells": [
  {
   "cell_type": "code",
   "execution_count": 26,
   "id": "90eea0fc-fd8f-4eab-9a4c-88713cce7a72",
   "metadata": {},
   "outputs": [
    {
     "name": "stdout",
     "output_type": "stream",
     "text": [
      "Raw Files Directory: ../raw\n",
      "Thermo dlls Directory:  ../libs\n",
      "Scan Filter Regex List:  ['ITMS']\n",
      "Processing raw file:  MA4383_FFPE_HPVneg_16_071522\n",
      "Reading Scans...\n",
      "Processing raw file:  MA4407_06_Mut_082722\n",
      "Reading Scans...\n",
      "Processing raw file:  MA4402_01_Mut_082722\n",
      "Reading Scans...\n",
      "Processing raw file:  MA4358_FFPE_HPVpos_01_071522\n",
      "Reading Scans...\n",
      "Processing raw file:  MA4365_FFPE_HPVpos_08_071522\n",
      "Reading Scans...\n",
      "100%|███████████████████████████████████| 66236/66236 [00:12<00:00, 5489.78it/s]\n",
      "./MA4402_01_Mut_082722.parquet\n",
      "Writing scans to parquet for  MA4402_01_Mut_082722  ...\n",
      "100%|███████████████████████████████████| 66437/66437 [00:12<00:00, 5379.09it/s]\n",
      "./MA4407_06_Mut_082722.parquet\n",
      "Writing scans to parquet for  MA4407_06_Mut_082722  ...\n",
      "100%|███████████████████████████████████| 65474/65474 [00:12<00:00, 5150.80it/s]\n",
      "./MA4383_FFPE_HPVneg_16_071522.parquet\n",
      "Writing scans to parquet for  MA4383_FFPE_HPVneg_16_071522  ...\n",
      "100%|███████████████████████████████████| 66354/66354 [00:12<00:00, 5144.25it/s]\n",
      "./MA4358_FFPE_HPVpos_01_071522.parquet\n",
      "Writing scans to parquet for  MA4358_FFPE_HPVpos_01_071522  ...\n",
      "100%|███████████████████████████████████| 66133/66133 [00:12<00:00, 5094.17it/s]\n",
      "./MA4365_FFPE_HPVpos_08_071522.parquet\n",
      "Writing scans to parquet for  MA4365_FFPE_HPVpos_08_071522  ...\n",
      "Writing raw file  MA4402_01_Mut_082722  took  30.6798038482666  seconds\n",
      "Writing raw file  MA4407_06_Mut_082722  took  35.58042526245117  seconds\n",
      "Writing raw file  MA4358_FFPE_HPVpos_01_071522  took  47.182751178741455  seconds\n",
      "Writing raw file  MA4383_FFPE_HPVneg_16_071522  took  47.925580739974976  seconds\n",
      "Writing raw file  MA4365_FFPE_HPVpos_08_071522  took  50.52120923995972  seconds\n",
      "Memory in use (MB): \n",
      "67.5859375\n",
      "Converted 5 raw files in 1.0756618976593018 minutes\n"
     ]
    }
   ],
   "source": [
    "!python3 raw_to_parquet.py ../raw -d ../libs"
   ]
  },
  {
   "cell_type": "code",
   "execution_count": 2,
   "id": "7e439933-c31a-49ef-b077-4d00771174b3",
   "metadata": {},
   "outputs": [
    {
     "name": "stdout",
     "output_type": "stream",
     "text": [
      "ThermoFisher.CommonCore.Data.dll\n",
      "ThermoFisher.CommonCore.RawFileReader.dll\n"
     ]
    }
   ],
   "source": [
    "!ls ../libs"
   ]
  },
  {
   "cell_type": "code",
   "execution_count": 3,
   "id": "fd358362-deb2-462f-b3fa-35a556002416",
   "metadata": {},
   "outputs": [],
   "source": [
    "import os"
   ]
  },
  {
   "cell_type": "code",
   "execution_count": 4,
   "id": "639bee21-fa13-444b-ab64-292b19b25e18",
   "metadata": {},
   "outputs": [
    {
     "data": {
      "text/plain": [
       "'/Users/n.t.wamsley/Projects/RawToParquetPython/ThermoRawFileToParquetConverter'"
      ]
     },
     "execution_count": 4,
     "metadata": {},
     "output_type": "execute_result"
    }
   ],
   "source": [
    "os.getcwd()"
   ]
  },
  {
   "cell_type": "code",
   "execution_count": null,
   "id": "7f765704-bfbb-4d22-99ab-df954bcc5983",
   "metadata": {},
   "outputs": [],
   "source": []
  }
 ],
 "metadata": {
  "kernelspec": {
   "display_name": "Python 3 (ipykernel)",
   "language": "python",
   "name": "python3"
  },
  "language_info": {
   "codemirror_mode": {
    "name": "ipython",
    "version": 3
   },
   "file_extension": ".py",
   "mimetype": "text/x-python",
   "name": "python",
   "nbconvert_exporter": "python",
   "pygments_lexer": "ipython3",
   "version": "3.10.9"
  }
 },
 "nbformat": 4,
 "nbformat_minor": 5
}
