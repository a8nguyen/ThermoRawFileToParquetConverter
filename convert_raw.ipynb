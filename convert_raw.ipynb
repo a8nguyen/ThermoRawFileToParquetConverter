{
 "cells": [
  {
   "cell_type": "markdown",
   "id": "093caf0e-14b1-4dbf-9440-6929b447b909",
   "metadata": {},
   "source": [
    "# Convert *.raw files using command line options\n",
    "\n",
    "1) <b>-d</b> flag sets directory to search for Thermo RawFileReader dll's\n",
    "2) <b>-n</b> flag specifies the number of threads to use\n",
    "3) <b>-sf</b> list of terms to search for in each scan header/filter. Scans that contain these words are ommited\n",
    "4) <b>-o</b> path to folder where the converted files will be saved"
   ]
  },
  {
   "cell_type": "code",
   "execution_count": null,
   "id": "687d92a5-10e6-4cac-a136-b5b85d49906c",
   "metadata": {},
   "outputs": [],
   "source": [
    "!python3 raw_to_parquet.py ../raw -d ../libs -n 12 -sf ITMS kazoo -o ./parquet_out"
   ]
  },
  {
   "cell_type": "code",
   "execution_count": 1,
   "id": "28a584fa-ad07-4bae-9053-181a60e8fe03",
   "metadata": {
    "tags": []
   },
   "outputs": [
    {
     "data": {
      "text/plain": [
       "{'raw_dir': '../raw',\n",
       " 'thermo_dlls': '../libs',\n",
       " 'scan_filter_regex_list': ['ITMS', 'kazoo'],\n",
       " 'num_workers': 12,\n",
       " 'parquet_out': './parquet_out'}"
      ]
     },
     "metadata": {},
     "output_type": "display_data"
    }
   ],
   "source": [
    "import json\n",
    "json_args_f = open('args.json')\n",
    "json_args = json.load(json_args_f)\n",
    "display(json_args)"
   ]
  },
  {
   "cell_type": "markdown",
   "id": "2efd386f-085b-4bde-9931-8bf31207b018",
   "metadata": {},
   "source": [
    "# Convert *.raw files using .json arguments\n",
    "In the previous example running the raw file converter using command line options generated a \"args.json\"\n",
    "file specifying the options. Rather than supplying options through flags in the command line, a simple .json\n",
    "file can be specified. "
   ]
  },
  {
   "cell_type": "code",
   "execution_count": null,
   "id": "aea52666-da4a-4c72-8c40-2e77772d2d98",
   "metadata": {},
   "outputs": [],
   "source": [
    "!python3 raw_to_parquet.py args.json"
   ]
  }
 ],
 "metadata": {
  "kernelspec": {
   "display_name": "Python 3 (ipykernel)",
   "language": "python",
   "name": "python3"
  },
  "language_info": {
   "codemirror_mode": {
    "name": "ipython",
    "version": 3
   },
   "file_extension": ".py",
   "mimetype": "text/x-python",
   "name": "python",
   "nbconvert_exporter": "python",
   "pygments_lexer": "ipython3",
   "version": "3.9.16"
  }
 },
 "nbformat": 4,
 "nbformat_minor": 5
}
